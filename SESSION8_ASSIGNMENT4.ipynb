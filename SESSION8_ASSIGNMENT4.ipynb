{
 "cells": [
  {
   "cell_type": "code",
   "execution_count": 1,
   "metadata": {},
   "outputs": [],
   "source": [
    "# Find the average for every calendar month for the given business day of 2015"
   ]
  },
  {
   "cell_type": "code",
   "execution_count": 2,
   "metadata": {},
   "outputs": [
    {
     "name": "stdout",
     "output_type": "stream",
     "text": [
      "2015-01-31    0.508705\n",
      "2015-02-28    0.634363\n",
      "2015-03-31    0.424043\n",
      "2015-04-30    0.605814\n",
      "2015-05-31    0.538318\n",
      "2015-06-30    0.629563\n",
      "2015-07-31    0.580880\n",
      "2015-08-31    0.513098\n",
      "2015-09-30    0.543059\n",
      "2015-10-31    0.564084\n",
      "2015-11-30    0.559580\n",
      "2015-12-31    0.441042\n",
      "Freq: M, dtype: float64\n"
     ]
    }
   ],
   "source": [
    "import pandas as pd\n",
    "import numpy as np\n",
    "\n",
    "# Data Time Index using the date range function and where frequency is given as 'B' - Business Days\n",
    "\n",
    "datetimeindex = pd.date_range(\"2015-01-01\",\"2015-12-31\", freq='B') #Frequeny B gives business days\n",
    "\n",
    "s = pd.Series(np.random.rand(len(datetimeindex)),index=datetimeindex) #Index Series of random numbers with dates\n",
    "\n",
    "sev = s.resample('M').mean()\n",
    "print(sev)\n"
   ]
  },
  {
   "cell_type": "code",
   "execution_count": null,
   "metadata": {},
   "outputs": [],
   "source": []
  }
 ],
 "metadata": {
  "kernelspec": {
   "display_name": "Python 3",
   "language": "python",
   "name": "python3"
  },
  "language_info": {
   "codemirror_mode": {
    "name": "ipython",
    "version": 3
   },
   "file_extension": ".py",
   "mimetype": "text/x-python",
   "name": "python",
   "nbconvert_exporter": "python",
   "pygments_lexer": "ipython3",
   "version": "3.6.5"
  }
 },
 "nbformat": 4,
 "nbformat_minor": 2
}
