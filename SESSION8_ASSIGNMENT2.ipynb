{
 "cells": [
  {
   "cell_type": "code",
   "execution_count": 1,
   "metadata": {},
   "outputs": [],
   "source": [
    "# Create a DatetimeIndex that contains each business day of 2015 and use it to index a Series of random numbers."
   ]
  },
  {
   "cell_type": "code",
   "execution_count": 2,
   "metadata": {},
   "outputs": [],
   "source": [
    "import pandas as pd\n",
    "import numpy as np"
   ]
  },
  {
   "cell_type": "code",
   "execution_count": 3,
   "metadata": {},
   "outputs": [
    {
     "name": "stdout",
     "output_type": "stream",
     "text": [
      "2015-01-01    0.533269\n",
      "2015-01-02    0.901739\n",
      "2015-01-05    0.746739\n",
      "2015-01-06    0.013368\n",
      "2015-01-07    0.803857\n",
      "2015-01-08    0.657516\n",
      "2015-01-09    0.414320\n",
      "2015-01-12    0.194926\n",
      "2015-01-13    0.881384\n",
      "2015-01-14    0.358406\n",
      "2015-01-15    0.732520\n",
      "2015-01-16    0.435950\n",
      "2015-01-19    0.851317\n",
      "2015-01-20    0.953961\n",
      "2015-01-21    0.784289\n",
      "2015-01-22    0.893154\n",
      "2015-01-23    0.165588\n",
      "2015-01-26    0.445959\n",
      "2015-01-27    0.959154\n",
      "2015-01-28    0.483606\n",
      "2015-01-29    0.515348\n",
      "2015-01-30    0.041427\n",
      "2015-02-02    0.544015\n",
      "2015-02-03    0.287451\n",
      "2015-02-04    0.902284\n",
      "2015-02-05    0.863961\n",
      "2015-02-06    0.672493\n",
      "2015-02-09    0.333898\n",
      "2015-02-10    0.909578\n",
      "2015-02-11    0.901856\n",
      "                ...   \n",
      "2015-11-20    0.571786\n",
      "2015-11-23    0.751419\n",
      "2015-11-24    0.454726\n",
      "2015-11-25    0.594759\n",
      "2015-11-26    0.718293\n",
      "2015-11-27    0.378285\n",
      "2015-11-30    0.164057\n",
      "2015-12-01    0.064756\n",
      "2015-12-02    0.898833\n",
      "2015-12-03    0.829713\n",
      "2015-12-04    0.959284\n",
      "2015-12-07    0.160338\n",
      "2015-12-08    0.907538\n",
      "2015-12-09    0.553100\n",
      "2015-12-10    0.622578\n",
      "2015-12-11    0.059381\n",
      "2015-12-14    0.310468\n",
      "2015-12-15    0.142418\n",
      "2015-12-16    0.125843\n",
      "2015-12-17    0.568324\n",
      "2015-12-18    0.540867\n",
      "2015-12-21    0.650156\n",
      "2015-12-22    0.552672\n",
      "2015-12-23    0.486927\n",
      "2015-12-24    0.326673\n",
      "2015-12-25    0.355033\n",
      "2015-12-28    0.117913\n",
      "2015-12-29    0.363459\n",
      "2015-12-30    0.497393\n",
      "2015-12-31    0.199014\n",
      "Freq: B, Length: 261, dtype: float64\n"
     ]
    }
   ],
   "source": [
    "# Data Time Index using the date range function and where frequency is given as 'B' - Business Days\n",
    "\n",
    "datetimeindex = pd.date_range(\"2015-01-01\",\"2015-12-31\", freq='B') #Frequeny B gives business days\n",
    "\n",
    "s = pd.Series(np.random.rand(len(datetimeindex)),index=datetimeindex) #Index Series of random numbers with dates\n",
    "\n",
    "print(s)"
   ]
  },
  {
   "cell_type": "code",
   "execution_count": null,
   "metadata": {},
   "outputs": [],
   "source": []
  }
 ],
 "metadata": {
  "kernelspec": {
   "display_name": "Python 3",
   "language": "python",
   "name": "python3"
  },
  "language_info": {
   "codemirror_mode": {
    "name": "ipython",
    "version": 3
   },
   "file_extension": ".py",
   "mimetype": "text/x-python",
   "name": "python",
   "nbconvert_exporter": "python",
   "pygments_lexer": "ipython3",
   "version": "3.6.5"
  }
 },
 "nbformat": 4,
 "nbformat_minor": 2
}
