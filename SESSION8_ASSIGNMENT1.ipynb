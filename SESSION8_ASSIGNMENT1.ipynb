{
 "cells": [
  {
   "cell_type": "code",
   "execution_count": 1,
   "metadata": {},
   "outputs": [],
   "source": [
    "# Program to count the distance to the previous Zero\n",
    "# Consider a DataFrame df where there is an integer column {'X':[7, 2, 0, 3, 4, 2, 5, 0, 3, 4]}\n",
    "# The values should therefore be [1, 2, 0, 1, 2, 3, 4, 0, 1, 2]. Make this a new column 'Y'."
   ]
  },
  {
   "cell_type": "code",
   "execution_count": 2,
   "metadata": {},
   "outputs": [
    {
     "data": {
      "text/plain": [
       "[1, 2, 0, 1, 2, 3, 4, 0, 1, 2]"
      ]
     },
     "execution_count": 2,
     "metadata": {},
     "output_type": "execute_result"
    }
   ],
   "source": [
    "import pandas as pd\n",
    "import numpy as np\n",
    "\n",
    "def countdistoprvzero(data):\n",
    "    '''\n",
    "    This method takes data frame and returns the list of distance to the pervious zeros\n",
    "    \n",
    "    INPUT: dataframe\n",
    "    OUTPUT: list that contains the distance to the pervious zero for given dataframe\n",
    "    '''\n",
    "    outputarr = [] # Var to hold the output list\n",
    "    indexfromzero = 1 #Var to hold the distance from zero\n",
    "    \n",
    "      \n",
    "    if(len(df.columns) == 1):\n",
    "        # Get the series for the given dataframe  \n",
    "        ser = data[data.columns[0]]\n",
    "        # Loop thru the series and identify the index\n",
    "        for i in range(0,len(ser)):\n",
    "            if( ser[i] != 0):\n",
    "                outputarr.append( indexfromzero)            \n",
    "                indexfromzero += 1\n",
    "            elif(ser[i] == 0):\n",
    "                outputarr.append( 0) \n",
    "                indexfromzero = 1\n",
    "    else:\n",
    "        outputarr.append('Cannot create list as data frame not having only on list')\n",
    "\n",
    "    return outputarr\n",
    "\n",
    "df = pd.DataFrame({'X': [7, 2, 0, 3, 4, 2, 5, 0, 3, 4]})\n",
    "countdistoprvzero(df)\n"
   ]
  }
 ],
 "metadata": {
  "kernelspec": {
   "display_name": "Python 3",
   "language": "python",
   "name": "python3"
  },
  "language_info": {
   "codemirror_mode": {
    "name": "ipython",
    "version": 3
   },
   "file_extension": ".py",
   "mimetype": "text/x-python",
   "name": "python",
   "nbconvert_exporter": "python",
   "pygments_lexer": "ipython3",
   "version": "3.6.5"
  }
 },
 "nbformat": 4,
 "nbformat_minor": 2
}
